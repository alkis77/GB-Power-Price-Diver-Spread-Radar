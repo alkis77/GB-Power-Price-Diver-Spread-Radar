{
 "cells": [
  {
   "cell_type": "markdown",
   "id": "976088aa",
   "metadata": {},
   "source": []
  },
  {
   "cell_type": "code",
   "execution_count": 7,
   "id": "f0d46511",
   "metadata": {},
   "outputs": [
    {
     "name": "stdout",
     "output_type": "stream",
     "text": [
      "Input path: C:\\Users\\alexa\\OneDrive\\Desktop\\GB-Power-Price-Diver-Spread-Radar\\data\\processed\\final_merged_with_regimes.parquet\n",
      "Output features path: C:\\Users\\alexa\\OneDrive\\Desktop\\GB-Power-Price-Diver-Spread-Radar\\data\\processed\\features_with_events.parquet\n",
      "Output log path: C:\\Users\\alexa\\OneDrive\\Desktop\\GB-Power-Price-Diver-Spread-Radar\\data\\processed\\event_log.parquet\n",
      "Config path: C:\\Users\\alexa\\OneDrive\\Desktop\\GB-Power-Price-Diver-Spread-Radar\\config\\detection.yml\n"
     ]
    }
   ],
   "source": [
    "import os\n",
    "import pandas as pd\n",
    "from gbpower.events.detection import detect_extreme_events\n",
    "from gbpower.events.annotate   import annotate_df\n",
    "\n",
    "# Get the absolute path to the project root (one level up from this notebook)\n",
    "# Use the already defined base_dir variable from the notebook environment\n",
    "# No need to redefine or use __file__ in Jupyter\n",
    "\n",
    "input_path  = os.path.abspath(os.path.join(base_dir, 'data', 'processed', 'final_merged_with_regimes.parquet'))\n",
    "output_feat = os.path.abspath(os.path.join(base_dir, 'data', 'processed', 'features_with_events.parquet'))\n",
    "output_log  = os.path.abspath(os.path.join(base_dir, 'data', 'processed', 'event_log.parquet'))\n",
    "config_path = os.path.abspath(os.path.join(base_dir, 'config', 'detection.yml'))  # Example for config\n",
    "\n",
    "print(\"Input path:\", input_path)\n",
    "print(\"Output features path:\", output_feat)\n",
    "print(\"Output log path:\", output_log)\n",
    "print(\"Config path:\", config_path)\n",
    "\n",
    "df  = pd.read_parquet(input_path)\n",
    "log = detect_extreme_events(df, config_path=config_path)\n",
    "df  = annotate_df(df, log)\n",
    "df.to_parquet(output_feat, index=False)\n",
    "log.to_parquet(output_log, index=False)"
   ]
  },
  {
   "cell_type": "code",
   "execution_count": null,
   "id": "c2f8e696",
   "metadata": {},
   "outputs": [],
   "source": []
  }
 ],
 "metadata": {
  "kernelspec": {
   "display_name": ".venv",
   "language": "python",
   "name": "python3"
  },
  "language_info": {
   "codemirror_mode": {
    "name": "ipython",
    "version": 3
   },
   "file_extension": ".py",
   "mimetype": "text/x-python",
   "name": "python",
   "nbconvert_exporter": "python",
   "pygments_lexer": "ipython3",
   "version": "3.13.3"
  }
 },
 "nbformat": 4,
 "nbformat_minor": 5
}
