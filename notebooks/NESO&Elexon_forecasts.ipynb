{
 "cells": [
  {
   "cell_type": "markdown",
   "id": "6f16e84d",
   "metadata": {},
   "source": [
    "# Forecast Comparison & Gap-Fill Notebook \n",
    "\n",
    "**Goal:**  \n",
    "Compare National Demand Forecast data from:\n",
    "\n",
    "* `da_demand_forecast.parquet`  →  *NESO feed*  \n",
    "* `demand_forecast_forecast.parquet` →  *Elexon BMRS feed*  \n",
    "\n",
    "…and **fill any half-hourly periods that are missing** in the Elexon file with the corresponding values from the NESO file.\n",
    "\n",
    "---\n",
    "\n",
    "### Steps\n",
    "\n",
    "1. Load both parquet files  \n",
    "2. Ensure `datetime` column is timezone-aware UTC  \n",
    "3. Identify missing periods in the Elexon series  \n",
    "4. Fill them from NESO where available  \n",
    "5. Output a merged parquet (`demand_forecast_filled.parquet`) and quick sanity checks\n"
   ]
  },
  {
   "cell_type": "code",
   "execution_count": 14,
   "id": "d07fab01",
   "metadata": {},
   "outputs": [
    {
     "name": "stdout",
     "output_type": "stream",
     "text": [
      "Project root: c:\\Users\\alexa\\OneDrive\\Desktop\\GB-Power-Price-Diver-Spread-Radar\n",
      "ELEXON: c:\\Users\\alexa\\OneDrive\\Desktop\\GB-Power-Price-Diver-Spread-Radar\\data\\processed\\demand_forecast_forecast.parquet\n",
      "NESO: c:\\Users\\alexa\\OneDrive\\Desktop\\GB-Power-Price-Diver-Spread-Radar\\data\\processed\\da_demand_forecast.parquet\n",
      "OUTPUT: c:\\Users\\alexa\\OneDrive\\Desktop\\GB-Power-Price-Diver-Spread-Radar\\data\\processed\\demand_forecast_filled.parquet\n"
     ]
    }
   ],
   "source": [
    "import pandas as pd\n",
    "from pathlib import Path\n",
    "import numpy as np\n",
    "\n",
    "# Get the project root directory (one level up from notebooks)\n",
    "ROOT_DIR = Path().absolute().parent\n",
    "\n",
    "# Define data files with absolute paths\n",
    "FILES = {\n",
    "    \"ELEXON\": str(ROOT_DIR / \"data/processed/demand_forecast_forecast.parquet\"),\n",
    "    \"NESO\": str(ROOT_DIR / \"data/processed/da_demand_forecast.parquet\"),\n",
    "    \"OUTPUT\": str(ROOT_DIR / \"data/processed/demand_forecast_filled.parquet\")\n",
    "}\n",
    "\n",
    "# Print the paths to verify\n",
    "print(\"Project root:\", ROOT_DIR)\n",
    "for name, path in FILES.items():\n",
    "    print(f\"{name}: {path}\")\n",
    "\n",
    "pd.set_option(\"display.max_rows\", 10)"
   ]
  },
  {
   "cell_type": "code",
   "execution_count": null,
   "id": "ebf75b82",
   "metadata": {},
   "outputs": [
    {
     "name": "stdout",
     "output_type": "stream",
     "text": [
      "\n",
      "Checking directory structure:\n",
      "Project root exists?: True\n",
      "Data directory exists?: True\n",
      "\n",
      "Available parquet files:\n",
      "- da_demand_forecast.parquet\n",
      "- demand_filtered.parquet\n",
      "- demand_forecast.parquet\n",
      "- fcast_merged.parquet\n",
      "- final_merged.parquet\n",
      "- forecast_actual.parquet\n",
      "- forecast_filtered.parquet\n",
      "- imbalance_filtered.parquet\n",
      "- imbalance_prices.parquet\n",
      "- intraday_filtered.parquet\n",
      "- intraday_prices.parquet\n",
      "- intraday_trades_raw.parquet\n",
      "\n",
      "Warning: ELEXON file not found at:\n",
      "c:\\Users\\alexa\\OneDrive\\Desktop\\GB-Power-Price-Diver-Spread-Radar\\data\\processed\\demand_forecast_forecast.parquet\n"
     ]
    },
    {
     "ename": "FileNotFoundError",
     "evalue": "Required input file missing: c:\\Users\\alexa\\OneDrive\\Desktop\\GB-Power-Price-Diver-Spread-Radar\\data\\processed\\demand_forecast_forecast.parquet",
     "output_type": "error",
     "traceback": [
      "\u001b[31m---------------------------------------------------------------------------\u001b[39m",
      "\u001b[31mFileNotFoundError\u001b[39m                         Traceback (most recent call last)",
      "\u001b[36mCell\u001b[39m\u001b[36m \u001b[39m\u001b[32mIn[15]\u001b[39m\u001b[32m, line 20\u001b[39m\n\u001b[32m     18\u001b[39m         \u001b[38;5;28mprint\u001b[39m(\u001b[33mf\u001b[39m\u001b[33m\"\u001b[39m\u001b[38;5;132;01m{\u001b[39;00mpath\u001b[38;5;132;01m}\u001b[39;00m\u001b[33m\"\u001b[39m)\n\u001b[32m     19\u001b[39m         \u001b[38;5;28;01mif\u001b[39;00m name \u001b[38;5;129;01min\u001b[39;00m [\u001b[33m\"\u001b[39m\u001b[33mELEXON\u001b[39m\u001b[33m\"\u001b[39m, \u001b[33m\"\u001b[39m\u001b[33mNESO\u001b[39m\u001b[33m\"\u001b[39m]:\n\u001b[32m---> \u001b[39m\u001b[32m20\u001b[39m             \u001b[38;5;28;01mraise\u001b[39;00m \u001b[38;5;167;01mFileNotFoundError\u001b[39;00m(\u001b[33mf\u001b[39m\u001b[33m\"\u001b[39m\u001b[33mRequired input file missing: \u001b[39m\u001b[38;5;132;01m{\u001b[39;00mpath\u001b[38;5;132;01m}\u001b[39;00m\u001b[33m\"\u001b[39m)\n\u001b[32m     22\u001b[39m \u001b[38;5;66;03m# Only proceed if files exist\u001b[39;00m\n\u001b[32m     23\u001b[39m elexon = pd.read_parquet(FILES[\u001b[33m\"\u001b[39m\u001b[33mELEXON\u001b[39m\u001b[33m\"\u001b[39m])\n",
      "\u001b[31mFileNotFoundError\u001b[39m: Required input file missing: c:\\Users\\alexa\\OneDrive\\Desktop\\GB-Power-Price-Diver-Spread-Radar\\data\\processed\\demand_forecast_forecast.parquet"
     ]
    }
   ],
   "source": []
  },
  {
   "cell_type": "code",
   "execution_count": null,
   "id": "00de9fc7",
   "metadata": {},
   "outputs": [],
   "source": [
    "def _ensure_dt(df):\n",
    "    if \"datetime\" not in df.columns:\n",
    "        raise ValueError(\"Expected 'datetime' column missing!\")\n",
    "    dt = pd.to_datetime(df[\"datetime\"], utc=True, errors=\"coerce\")\n",
    "    if dt.isna().any():\n",
    "        print(\"⚠️  NaNs found in datetime conversion – check source\")\n",
    "    return df.assign(datetime=dt)\n",
    "\n",
    "elexon = _ensure_dt(elexon)\n",
    "neso   = _ensure_dt(neso)\n"
   ]
  },
  {
   "cell_type": "code",
   "execution_count": null,
   "id": "7124850b",
   "metadata": {},
   "outputs": [],
   "source": [
    "elexon = elexon.set_index(\"datetime\").sort_index()\n",
    "neso   = neso.set_index(\"datetime\").sort_index()\n",
    "\n",
    "print(\"Elexon index range:\", elexon.index.min(), \"→\", elexon.index.max())\n",
    "print(\"NESO   index range:\", neso.index.min(), \"→\", neso.index.max())\n"
   ]
  }
 ],
 "metadata": {
  "kernelspec": {
   "display_name": ".venv",
   "language": "python",
   "name": "python3"
  },
  "language_info": {
   "codemirror_mode": {
    "name": "ipython",
    "version": 3
   },
   "file_extension": ".py",
   "mimetype": "text/x-python",
   "name": "python",
   "nbconvert_exporter": "python",
   "pygments_lexer": "ipython3",
   "version": "3.13.3"
  }
 },
 "nbformat": 4,
 "nbformat_minor": 5
}
