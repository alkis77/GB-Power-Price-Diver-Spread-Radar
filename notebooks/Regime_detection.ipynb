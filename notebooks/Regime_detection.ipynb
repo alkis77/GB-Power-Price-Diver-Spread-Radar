{
 "cells": [
  {
   "cell_type": "markdown",
   "id": "d58876dd",
   "metadata": {},
   "source": [
    "#  Event & Regime Detection  \n",
    "Identify stress periods in the GB power market (2024 replay)\n"
   ]
  },
  {
   "cell_type": "code",
   "execution_count": 1,
   "id": "8499374e",
   "metadata": {},
   "outputs": [
    {
     "name": "stdout",
     "output_type": "stream",
     "text": [
      "Rows kept for 2024: 15258\n"
     ]
    }
   ],
   "source": [
    "# Add project root to sys.path so 'src' is importable\n",
    "import sys\n",
    "from pathlib import Path\n",
    "sys.path.append(str(Path().resolve().parent)) \n",
    "\n",
    "from src.features.regime_flags import add_regime_flags\n",
    "\n",
    "import pandas as pd\n",
    "\n",
    "notebook_dir = Path().absolute()\n",
    "project_root = notebook_dir.parent\n",
    "\n",
    "# Build absolute path for your data file\n",
    "DATA_DIR = project_root / \"data\" / \"processed\"\n",
    "DATA_PATH = DATA_DIR / \"final_merged_with_features.parquet\"\n",
    "\n",
    "# Load the DataFrame\n",
    "df = pd.read_parquet(DATA_PATH)\n",
    "\n",
    "# ── Filter to calendar-year 2024 only ────────────────────────────────────\n",
    "df = df[(df[\"datetime\"] >= \"2024-01-01\") & (df[\"datetime\"] < \"2025-01-01\")].copy()\n",
    "print(\"Rows kept for 2024:\", len(df))\n"
   ]
  },
  {
   "cell_type": "markdown",
   "id": "f6e32a26",
   "metadata": {},
   "source": [
    "## 1. Quick look at potential drivers  \n",
    "\n",
    "* Rolling volatility of SBP–MIP spread (`vol_spread_SBP_vs_MIP`)  \n",
    "* Rolling volatility of TSD forecast error (`vol_err_TSD_%`)  \n",
    "* Absolute SBP–MIP spread (`|spread_SBP_vs_MIP|`)  \n"
   ]
  },
  {
   "cell_type": "code",
   "execution_count": 2,
   "id": "576cfc28",
   "metadata": {},
   "outputs": [
    {
     "data": {
      "text/html": [
       "<div>\n",
       "<style scoped>\n",
       "    .dataframe tbody tr th:only-of-type {\n",
       "        vertical-align: middle;\n",
       "    }\n",
       "\n",
       "    .dataframe tbody tr th {\n",
       "        vertical-align: top;\n",
       "    }\n",
       "\n",
       "    .dataframe thead th {\n",
       "        text-align: right;\n",
       "    }\n",
       "</style>\n",
       "<table border=\"1\" class=\"dataframe\">\n",
       "  <thead>\n",
       "    <tr style=\"text-align: right;\">\n",
       "      <th></th>\n",
       "      <th>0.90</th>\n",
       "      <th>0.95</th>\n",
       "      <th>0.99</th>\n",
       "    </tr>\n",
       "    <tr>\n",
       "      <th>driver</th>\n",
       "      <th></th>\n",
       "      <th></th>\n",
       "      <th></th>\n",
       "    </tr>\n",
       "  </thead>\n",
       "  <tbody>\n",
       "    <tr>\n",
       "      <th>vol_spread_SBP_vs_MIP</th>\n",
       "      <td>33.461</td>\n",
       "      <td>37.261</td>\n",
       "      <td>55.288</td>\n",
       "    </tr>\n",
       "    <tr>\n",
       "      <th>vol_err_TSD_%</th>\n",
       "      <td>0.071</td>\n",
       "      <td>0.078</td>\n",
       "      <td>0.087</td>\n",
       "    </tr>\n",
       "    <tr>\n",
       "      <th>spread_SBP_vs_MIP</th>\n",
       "      <td>38.590</td>\n",
       "      <td>50.610</td>\n",
       "      <td>79.053</td>\n",
       "    </tr>\n",
       "  </tbody>\n",
       "</table>\n",
       "</div>"
      ],
      "text/plain": [
       "                         0.90    0.95    0.99\n",
       "driver                                       \n",
       "vol_spread_SBP_vs_MIP  33.461  37.261  55.288\n",
       "vol_err_TSD_%           0.071   0.078   0.087\n",
       "spread_SBP_vs_MIP      38.590  50.610  79.053"
      ]
     },
     "metadata": {},
     "output_type": "display_data"
    }
   ],
   "source": [
    "drivers = [\"vol_spread_SBP_vs_MIP\", \"vol_err_TSD_%\", \"spread_SBP_vs_MIP\"]\n",
    "\n",
    "# If volatility columns are missing, compute 48-period rolling std\n",
    "for c in [\"vol_spread_SBP_vs_MIP\", \"vol_err_TSD_%\"]:\n",
    "    if c not in df.columns:\n",
    "        src = \"spread_SBP_vs_MIP\" if c.startswith(\"vol_spread\") else \"err_TSD_%\"\n",
    "        df[c] = df[src].rolling(window=48, min_periods=1).std()\n",
    "\n",
    "perc_table = (\n",
    "    df[drivers].abs()\n",
    "      .quantile([0.90, 0.95, 0.99])\n",
    "      .T.round(3)\n",
    "      .rename_axis(\"driver\")\n",
    ")\n",
    "display(perc_table)\n"
   ]
  },
  {
   "cell_type": "markdown",
   "id": "52f1dac7",
   "metadata": {},
   "source": [
    "### 2. Define thresholds  \n",
    "*We’ll label periods as **High-Vol** if any driver > 95th-percentile,  \n",
    "and **Extreme** if at least two drivers exceed the 99th-percentile.*\n"
   ]
  },
  {
   "cell_type": "code",
   "execution_count": 3,
   "id": "207c5abf",
   "metadata": {},
   "outputs": [
    {
     "data": {
      "text/html": [
       "<div>\n",
       "<style scoped>\n",
       "    .dataframe tbody tr th:only-of-type {\n",
       "        vertical-align: middle;\n",
       "    }\n",
       "\n",
       "    .dataframe tbody tr th {\n",
       "        vertical-align: top;\n",
       "    }\n",
       "\n",
       "    .dataframe thead th {\n",
       "        text-align: right;\n",
       "    }\n",
       "</style>\n",
       "<table border=\"1\" class=\"dataframe\">\n",
       "  <thead>\n",
       "    <tr style=\"text-align: right;\">\n",
       "      <th></th>\n",
       "      <th>regime_flag</th>\n",
       "      <th>is_stress_event</th>\n",
       "    </tr>\n",
       "  </thead>\n",
       "  <tbody>\n",
       "    <tr>\n",
       "      <th>0</th>\n",
       "      <td>NORMAL</td>\n",
       "      <td>0</td>\n",
       "    </tr>\n",
       "    <tr>\n",
       "      <th>1</th>\n",
       "      <td>NORMAL</td>\n",
       "      <td>0</td>\n",
       "    </tr>\n",
       "    <tr>\n",
       "      <th>2</th>\n",
       "      <td>NORMAL</td>\n",
       "      <td>0</td>\n",
       "    </tr>\n",
       "    <tr>\n",
       "      <th>3</th>\n",
       "      <td>NORMAL</td>\n",
       "      <td>0</td>\n",
       "    </tr>\n",
       "    <tr>\n",
       "      <th>4</th>\n",
       "      <td>NORMAL</td>\n",
       "      <td>0</td>\n",
       "    </tr>\n",
       "  </tbody>\n",
       "</table>\n",
       "</div>"
      ],
      "text/plain": [
       "  regime_flag  is_stress_event\n",
       "0      NORMAL                0\n",
       "1      NORMAL                0\n",
       "2      NORMAL                0\n",
       "3      NORMAL                0\n",
       "4      NORMAL                0"
      ]
     },
     "execution_count": 3,
     "metadata": {},
     "output_type": "execute_result"
    }
   ],
   "source": [
    "df = add_regime_flags(\n",
    "    df,\n",
    "    config={},              \n",
    "    window=48,              # recompute vol with 1-day window for safety\n",
    "    perc_95=0.95,\n",
    "    perc_99=0.99,\n",
    ")\n",
    "\n",
    "df[[\"regime_flag\", \"is_stress_event\"]].head()\n"
   ]
  },
  {
   "cell_type": "code",
   "execution_count": 4,
   "id": "f63c3c32",
   "metadata": {},
   "outputs": [
    {
     "name": "stdout",
     "output_type": "stream",
     "text": [
      "Regime distribution (2024):\n"
     ]
    },
    {
     "data": {
      "text/html": [
       "<div>\n",
       "<style scoped>\n",
       "    .dataframe tbody tr th:only-of-type {\n",
       "        vertical-align: middle;\n",
       "    }\n",
       "\n",
       "    .dataframe tbody tr th {\n",
       "        vertical-align: top;\n",
       "    }\n",
       "\n",
       "    .dataframe thead th {\n",
       "        text-align: right;\n",
       "    }\n",
       "</style>\n",
       "<table border=\"1\" class=\"dataframe\">\n",
       "  <thead>\n",
       "    <tr style=\"text-align: right;\">\n",
       "      <th></th>\n",
       "      <th>rows</th>\n",
       "      <th>share</th>\n",
       "    </tr>\n",
       "    <tr>\n",
       "      <th>regime_flag</th>\n",
       "      <th></th>\n",
       "      <th></th>\n",
       "    </tr>\n",
       "  </thead>\n",
       "  <tbody>\n",
       "    <tr>\n",
       "      <th>NORMAL</th>\n",
       "      <td>13177</td>\n",
       "      <td>0.864</td>\n",
       "    </tr>\n",
       "    <tr>\n",
       "      <th>HIGH_VOL</th>\n",
       "      <td>2043</td>\n",
       "      <td>0.134</td>\n",
       "    </tr>\n",
       "    <tr>\n",
       "      <th>EXTREME</th>\n",
       "      <td>38</td>\n",
       "      <td>0.002</td>\n",
       "    </tr>\n",
       "  </tbody>\n",
       "</table>\n",
       "</div>"
      ],
      "text/plain": [
       "              rows  share\n",
       "regime_flag              \n",
       "NORMAL       13177  0.864\n",
       "HIGH_VOL      2043  0.134\n",
       "EXTREME         38  0.002"
      ]
     },
     "metadata": {},
     "output_type": "display_data"
    }
   ],
   "source": [
    "print(\"Regime distribution (2024):\")\n",
    "display(df[\"regime_flag\"].value_counts(dropna=False).to_frame(\"rows\").assign(share=lambda t: (t[\"rows\"]/len(df)).round(3)))\n"
   ]
  },
  {
   "cell_type": "code",
   "execution_count": 5,
   "id": "2be00c96",
   "metadata": {},
   "outputs": [
    {
     "name": "stdout",
     "output_type": "stream",
     "text": [
      "✅ Saved data\\processed\\final_merged_with_regimes.parquet\n"
     ]
    }
   ],
   "source": [
    "OUT_PATH = Path(\"data/processed/final_merged_with_regimes.parquet\")\n",
    "OUT_PATH.parent.mkdir(parents=True, exist_ok=True)\n",
    "df.to_parquet(OUT_PATH, index=False)\n",
    "print(\"✅ Saved\", OUT_PATH)\n"
   ]
  },
  {
   "cell_type": "markdown",
   "id": "f779171c",
   "metadata": {},
   "source": [
    "### 4. Export quick counts for later use\n",
    "\n"
   ]
  },
  {
   "cell_type": "code",
   "execution_count": 6,
   "id": "546f944b",
   "metadata": {},
   "outputs": [
    {
     "name": "stdout",
     "output_type": "stream",
     "text": [
      "✅ Saved data\\processed\\regime_counts_2024.csv\n"
     ]
    }
   ],
   "source": [
    "counts_path = Path(\"data/processed/regime_counts_2024.csv\")\n",
    "df[\"regime_flag\"].value_counts().to_csv(counts_path, header=[\"rows\"])\n",
    "print(\"✅ Saved\", counts_path)\n"
   ]
  }
 ],
 "metadata": {
  "kernelspec": {
   "display_name": ".venv",
   "language": "python",
   "name": "python3"
  },
  "language_info": {
   "codemirror_mode": {
    "name": "ipython",
    "version": 3
   },
   "file_extension": ".py",
   "mimetype": "text/x-python",
   "name": "python",
   "nbconvert_exporter": "python",
   "pygments_lexer": "ipython3",
   "version": "3.13.3"
  }
 },
 "nbformat": 4,
 "nbformat_minor": 5
}
